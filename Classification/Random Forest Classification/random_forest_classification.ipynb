{
 "cells": [
  {
   "cell_type": "markdown",
   "metadata": {
    "colab_type": "text",
    "id": "CazISR8X_HUG"
   },
   "source": [
    "# Logistic Regression"
   ]
  },
  {
   "cell_type": "markdown",
   "metadata": {
    "colab_type": "text",
    "id": "pOyqYHTk_Q57"
   },
   "source": [
    "## Importing the libraries"
   ]
  },
  {
   "cell_type": "code",
   "execution_count": 1,
   "metadata": {
    "colab": {},
    "colab_type": "code",
    "id": "T_YHJjnD_Tja"
   },
   "outputs": [
    {
     "name": "stderr",
     "output_type": "stream",
     "text": [
      "C:\\Program Files\\Anaconda3\\lib\\site-packages\\pandas\\compat\\_optional.py:106: UserWarning: Pandas requires version '1.2.1' or newer of 'bottleneck' (version '1.1.0' currently installed).\n",
      "  warnings.warn(msg, UserWarning)\n",
      "C:\\Program Files\\Anaconda3\\lib\\site-packages\\pandas_datareader\\compat\\__init__.py:7: FutureWarning: pandas.util.testing is deprecated. Use the functions in the public API at pandas.testing instead.\n",
      "  from pandas.util.testing import assert_frame_equal\n"
     ]
    }
   ],
   "source": [
    "import numpy as np\n",
    "import matplotlib.pyplot as plt\n",
    "import pandas as pd\n",
    "import datetime\n",
    "import pandas_datareader\n",
    "from sklearn.metrics import confusion_matrix, accuracy_score"
   ]
  },
  {
   "cell_type": "markdown",
   "metadata": {
    "colab_type": "text",
    "id": "vgC61-ah_WIz"
   },
   "source": [
    "## Importing the dataset"
   ]
  },
  {
   "cell_type": "code",
   "execution_count": 2,
   "metadata": {
    "colab": {},
    "colab_type": "code",
    "id": "UrxyEKGn_ez7"
   },
   "outputs": [],
   "source": [
    "start_date = '2015-06-12'\n",
    "end_date = '2020-05-12'"
   ]
  },
  {
   "cell_type": "code",
   "execution_count": 3,
   "metadata": {},
   "outputs": [
    {
     "data": {
      "text/html": [
       "<div>\n",
       "<style scoped>\n",
       "    .dataframe tbody tr th:only-of-type {\n",
       "        vertical-align: middle;\n",
       "    }\n",
       "\n",
       "    .dataframe tbody tr th {\n",
       "        vertical-align: top;\n",
       "    }\n",
       "\n",
       "    .dataframe thead th {\n",
       "        text-align: right;\n",
       "    }\n",
       "</style>\n",
       "<table border=\"1\" class=\"dataframe\">\n",
       "  <thead>\n",
       "    <tr style=\"text-align: right;\">\n",
       "      <th></th>\n",
       "      <th>High</th>\n",
       "      <th>Low</th>\n",
       "      <th>Open</th>\n",
       "      <th>Close</th>\n",
       "      <th>Volume</th>\n",
       "      <th>Adj Close</th>\n",
       "    </tr>\n",
       "    <tr>\n",
       "      <th>Date</th>\n",
       "      <th></th>\n",
       "      <th></th>\n",
       "      <th></th>\n",
       "      <th></th>\n",
       "      <th></th>\n",
       "      <th></th>\n",
       "    </tr>\n",
       "  </thead>\n",
       "  <tbody>\n",
       "    <tr>\n",
       "      <th>2020-05-06</th>\n",
       "      <td>9346.900391</td>\n",
       "      <td>9116.500000</td>\n",
       "      <td>9226.799805</td>\n",
       "      <td>9270.900391</td>\n",
       "      <td>722200.0</td>\n",
       "      <td>9270.900391</td>\n",
       "    </tr>\n",
       "    <tr>\n",
       "      <th>2020-05-07</th>\n",
       "      <td>9277.849609</td>\n",
       "      <td>9175.900391</td>\n",
       "      <td>9234.049805</td>\n",
       "      <td>9199.049805</td>\n",
       "      <td>708700.0</td>\n",
       "      <td>9199.049805</td>\n",
       "    </tr>\n",
       "    <tr>\n",
       "      <th>2020-05-08</th>\n",
       "      <td>9382.650391</td>\n",
       "      <td>9238.200195</td>\n",
       "      <td>9376.950195</td>\n",
       "      <td>9251.500000</td>\n",
       "      <td>609100.0</td>\n",
       "      <td>9251.500000</td>\n",
       "    </tr>\n",
       "    <tr>\n",
       "      <th>2020-05-11</th>\n",
       "      <td>9439.900391</td>\n",
       "      <td>9219.950195</td>\n",
       "      <td>9348.150391</td>\n",
       "      <td>9239.200195</td>\n",
       "      <td>704600.0</td>\n",
       "      <td>9239.200195</td>\n",
       "    </tr>\n",
       "    <tr>\n",
       "      <th>2020-05-12</th>\n",
       "      <td>9240.849609</td>\n",
       "      <td>9043.950195</td>\n",
       "      <td>9168.849609</td>\n",
       "      <td>9196.549805</td>\n",
       "      <td>805500.0</td>\n",
       "      <td>9196.549805</td>\n",
       "    </tr>\n",
       "  </tbody>\n",
       "</table>\n",
       "</div>"
      ],
      "text/plain": [
       "                   High          Low         Open        Close    Volume  \\\n",
       "Date                                                                       \n",
       "2020-05-06  9346.900391  9116.500000  9226.799805  9270.900391  722200.0   \n",
       "2020-05-07  9277.849609  9175.900391  9234.049805  9199.049805  708700.0   \n",
       "2020-05-08  9382.650391  9238.200195  9376.950195  9251.500000  609100.0   \n",
       "2020-05-11  9439.900391  9219.950195  9348.150391  9239.200195  704600.0   \n",
       "2020-05-12  9240.849609  9043.950195  9168.849609  9196.549805  805500.0   \n",
       "\n",
       "              Adj Close  \n",
       "Date                     \n",
       "2020-05-06  9270.900391  \n",
       "2020-05-07  9199.049805  \n",
       "2020-05-08  9251.500000  \n",
       "2020-05-11  9239.200195  \n",
       "2020-05-12  9196.549805  "
      ]
     },
     "execution_count": 3,
     "metadata": {},
     "output_type": "execute_result"
    }
   ],
   "source": [
    "data = pandas_datareader.data.get_data_yahoo('^NSEI', start_date, end_date)\n",
    "data.tail()"
   ]
  },
  {
   "cell_type": "code",
   "execution_count": 4,
   "metadata": {},
   "outputs": [
    {
     "data": {
      "text/html": [
       "<style  type=\"text/css\" >\n",
       "    #T_04ca824a_af59_11ea_8402_8056f2546718row0_col0 {\n",
       "            background-color:  #b40426;\n",
       "            color:  #f1f1f1;\n",
       "        }    #T_04ca824a_af59_11ea_8402_8056f2546718row0_col1 {\n",
       "            background-color:  #b40426;\n",
       "            color:  #f1f1f1;\n",
       "        }    #T_04ca824a_af59_11ea_8402_8056f2546718row0_col2 {\n",
       "            background-color:  #b40426;\n",
       "            color:  #f1f1f1;\n",
       "        }    #T_04ca824a_af59_11ea_8402_8056f2546718row0_col3 {\n",
       "            background-color:  #b40426;\n",
       "            color:  #f1f1f1;\n",
       "        }    #T_04ca824a_af59_11ea_8402_8056f2546718row0_col4 {\n",
       "            background-color:  #455cce;\n",
       "            color:  #f1f1f1;\n",
       "        }    #T_04ca824a_af59_11ea_8402_8056f2546718row0_col5 {\n",
       "            background-color:  #b40426;\n",
       "            color:  #f1f1f1;\n",
       "        }    #T_04ca824a_af59_11ea_8402_8056f2546718row1_col0 {\n",
       "            background-color:  #b40426;\n",
       "            color:  #f1f1f1;\n",
       "        }    #T_04ca824a_af59_11ea_8402_8056f2546718row1_col1 {\n",
       "            background-color:  #b40426;\n",
       "            color:  #f1f1f1;\n",
       "        }    #T_04ca824a_af59_11ea_8402_8056f2546718row1_col2 {\n",
       "            background-color:  #b40426;\n",
       "            color:  #f1f1f1;\n",
       "        }    #T_04ca824a_af59_11ea_8402_8056f2546718row1_col3 {\n",
       "            background-color:  #b40426;\n",
       "            color:  #f1f1f1;\n",
       "        }    #T_04ca824a_af59_11ea_8402_8056f2546718row1_col4 {\n",
       "            background-color:  #3b4cc0;\n",
       "            color:  #f1f1f1;\n",
       "        }    #T_04ca824a_af59_11ea_8402_8056f2546718row1_col5 {\n",
       "            background-color:  #b40426;\n",
       "            color:  #f1f1f1;\n",
       "        }    #T_04ca824a_af59_11ea_8402_8056f2546718row2_col0 {\n",
       "            background-color:  #b40426;\n",
       "            color:  #f1f1f1;\n",
       "        }    #T_04ca824a_af59_11ea_8402_8056f2546718row2_col1 {\n",
       "            background-color:  #b40426;\n",
       "            color:  #f1f1f1;\n",
       "        }    #T_04ca824a_af59_11ea_8402_8056f2546718row2_col2 {\n",
       "            background-color:  #b40426;\n",
       "            color:  #f1f1f1;\n",
       "        }    #T_04ca824a_af59_11ea_8402_8056f2546718row2_col3 {\n",
       "            background-color:  #b40426;\n",
       "            color:  #f1f1f1;\n",
       "        }    #T_04ca824a_af59_11ea_8402_8056f2546718row2_col4 {\n",
       "            background-color:  #4055c8;\n",
       "            color:  #f1f1f1;\n",
       "        }    #T_04ca824a_af59_11ea_8402_8056f2546718row2_col5 {\n",
       "            background-color:  #b40426;\n",
       "            color:  #f1f1f1;\n",
       "        }    #T_04ca824a_af59_11ea_8402_8056f2546718row3_col0 {\n",
       "            background-color:  #b40426;\n",
       "            color:  #f1f1f1;\n",
       "        }    #T_04ca824a_af59_11ea_8402_8056f2546718row3_col1 {\n",
       "            background-color:  #b40426;\n",
       "            color:  #f1f1f1;\n",
       "        }    #T_04ca824a_af59_11ea_8402_8056f2546718row3_col2 {\n",
       "            background-color:  #b40426;\n",
       "            color:  #f1f1f1;\n",
       "        }    #T_04ca824a_af59_11ea_8402_8056f2546718row3_col3 {\n",
       "            background-color:  #b40426;\n",
       "            color:  #f1f1f1;\n",
       "        }    #T_04ca824a_af59_11ea_8402_8056f2546718row3_col4 {\n",
       "            background-color:  #3f53c6;\n",
       "            color:  #f1f1f1;\n",
       "        }    #T_04ca824a_af59_11ea_8402_8056f2546718row3_col5 {\n",
       "            background-color:  #b40426;\n",
       "            color:  #f1f1f1;\n",
       "        }    #T_04ca824a_af59_11ea_8402_8056f2546718row4_col0 {\n",
       "            background-color:  #3b4cc0;\n",
       "            color:  #f1f1f1;\n",
       "        }    #T_04ca824a_af59_11ea_8402_8056f2546718row4_col1 {\n",
       "            background-color:  #3b4cc0;\n",
       "            color:  #f1f1f1;\n",
       "        }    #T_04ca824a_af59_11ea_8402_8056f2546718row4_col2 {\n",
       "            background-color:  #3b4cc0;\n",
       "            color:  #f1f1f1;\n",
       "        }    #T_04ca824a_af59_11ea_8402_8056f2546718row4_col3 {\n",
       "            background-color:  #3b4cc0;\n",
       "            color:  #f1f1f1;\n",
       "        }    #T_04ca824a_af59_11ea_8402_8056f2546718row4_col4 {\n",
       "            background-color:  #b40426;\n",
       "            color:  #f1f1f1;\n",
       "        }    #T_04ca824a_af59_11ea_8402_8056f2546718row4_col5 {\n",
       "            background-color:  #3b4cc0;\n",
       "            color:  #f1f1f1;\n",
       "        }    #T_04ca824a_af59_11ea_8402_8056f2546718row5_col0 {\n",
       "            background-color:  #b40426;\n",
       "            color:  #f1f1f1;\n",
       "        }    #T_04ca824a_af59_11ea_8402_8056f2546718row5_col1 {\n",
       "            background-color:  #b40426;\n",
       "            color:  #f1f1f1;\n",
       "        }    #T_04ca824a_af59_11ea_8402_8056f2546718row5_col2 {\n",
       "            background-color:  #b40426;\n",
       "            color:  #f1f1f1;\n",
       "        }    #T_04ca824a_af59_11ea_8402_8056f2546718row5_col3 {\n",
       "            background-color:  #b40426;\n",
       "            color:  #f1f1f1;\n",
       "        }    #T_04ca824a_af59_11ea_8402_8056f2546718row5_col4 {\n",
       "            background-color:  #3f53c6;\n",
       "            color:  #f1f1f1;\n",
       "        }    #T_04ca824a_af59_11ea_8402_8056f2546718row5_col5 {\n",
       "            background-color:  #b40426;\n",
       "            color:  #f1f1f1;\n",
       "        }</style><table id=\"T_04ca824a_af59_11ea_8402_8056f2546718\" ><thead>    <tr>        <th class=\"blank level0\" ></th>        <th class=\"col_heading level0 col0\" >High</th>        <th class=\"col_heading level0 col1\" >Low</th>        <th class=\"col_heading level0 col2\" >Open</th>        <th class=\"col_heading level0 col3\" >Close</th>        <th class=\"col_heading level0 col4\" >Volume</th>        <th class=\"col_heading level0 col5\" >Adj Close</th>    </tr></thead><tbody>\n",
       "                <tr>\n",
       "                        <th id=\"T_04ca824a_af59_11ea_8402_8056f2546718level0_row0\" class=\"row_heading level0 row0\" >High</th>\n",
       "                        <td id=\"T_04ca824a_af59_11ea_8402_8056f2546718row0_col0\" class=\"data row0 col0\" >1.000000</td>\n",
       "                        <td id=\"T_04ca824a_af59_11ea_8402_8056f2546718row0_col1\" class=\"data row0 col1\" >0.998167</td>\n",
       "                        <td id=\"T_04ca824a_af59_11ea_8402_8056f2546718row0_col2\" class=\"data row0 col2\" >0.999042</td>\n",
       "                        <td id=\"T_04ca824a_af59_11ea_8402_8056f2546718row0_col3\" class=\"data row0 col3\" >0.999149</td>\n",
       "                        <td id=\"T_04ca824a_af59_11ea_8402_8056f2546718row0_col4\" class=\"data row0 col4\" >0.205008</td>\n",
       "                        <td id=\"T_04ca824a_af59_11ea_8402_8056f2546718row0_col5\" class=\"data row0 col5\" >0.999149</td>\n",
       "            </tr>\n",
       "            <tr>\n",
       "                        <th id=\"T_04ca824a_af59_11ea_8402_8056f2546718level0_row1\" class=\"row_heading level0 row1\" >Low</th>\n",
       "                        <td id=\"T_04ca824a_af59_11ea_8402_8056f2546718row1_col0\" class=\"data row1 col0\" >0.998167</td>\n",
       "                        <td id=\"T_04ca824a_af59_11ea_8402_8056f2546718row1_col1\" class=\"data row1 col1\" >1.000000</td>\n",
       "                        <td id=\"T_04ca824a_af59_11ea_8402_8056f2546718row1_col2\" class=\"data row1 col2\" >0.999011</td>\n",
       "                        <td id=\"T_04ca824a_af59_11ea_8402_8056f2546718row1_col3\" class=\"data row1 col3\" >0.998904</td>\n",
       "                        <td id=\"T_04ca824a_af59_11ea_8402_8056f2546718row1_col4\" class=\"data row1 col4\" >0.174095</td>\n",
       "                        <td id=\"T_04ca824a_af59_11ea_8402_8056f2546718row1_col5\" class=\"data row1 col5\" >0.998904</td>\n",
       "            </tr>\n",
       "            <tr>\n",
       "                        <th id=\"T_04ca824a_af59_11ea_8402_8056f2546718level0_row2\" class=\"row_heading level0 row2\" >Open</th>\n",
       "                        <td id=\"T_04ca824a_af59_11ea_8402_8056f2546718row2_col0\" class=\"data row2 col0\" >0.999042</td>\n",
       "                        <td id=\"T_04ca824a_af59_11ea_8402_8056f2546718row2_col1\" class=\"data row2 col1\" >0.999011</td>\n",
       "                        <td id=\"T_04ca824a_af59_11ea_8402_8056f2546718row2_col2\" class=\"data row2 col2\" >1.000000</td>\n",
       "                        <td id=\"T_04ca824a_af59_11ea_8402_8056f2546718row2_col3\" class=\"data row2 col3\" >0.998221</td>\n",
       "                        <td id=\"T_04ca824a_af59_11ea_8402_8056f2546718row2_col4\" class=\"data row2 col4\" >0.191678</td>\n",
       "                        <td id=\"T_04ca824a_af59_11ea_8402_8056f2546718row2_col5\" class=\"data row2 col5\" >0.998221</td>\n",
       "            </tr>\n",
       "            <tr>\n",
       "                        <th id=\"T_04ca824a_af59_11ea_8402_8056f2546718level0_row3\" class=\"row_heading level0 row3\" >Close</th>\n",
       "                        <td id=\"T_04ca824a_af59_11ea_8402_8056f2546718row3_col0\" class=\"data row3 col0\" >0.999149</td>\n",
       "                        <td id=\"T_04ca824a_af59_11ea_8402_8056f2546718row3_col1\" class=\"data row3 col1\" >0.998904</td>\n",
       "                        <td id=\"T_04ca824a_af59_11ea_8402_8056f2546718row3_col2\" class=\"data row3 col2\" >0.998221</td>\n",
       "                        <td id=\"T_04ca824a_af59_11ea_8402_8056f2546718row3_col3\" class=\"data row3 col3\" >1.000000</td>\n",
       "                        <td id=\"T_04ca824a_af59_11ea_8402_8056f2546718row3_col4\" class=\"data row3 col4\" >0.189175</td>\n",
       "                        <td id=\"T_04ca824a_af59_11ea_8402_8056f2546718row3_col5\" class=\"data row3 col5\" >1.000000</td>\n",
       "            </tr>\n",
       "            <tr>\n",
       "                        <th id=\"T_04ca824a_af59_11ea_8402_8056f2546718level0_row4\" class=\"row_heading level0 row4\" >Volume</th>\n",
       "                        <td id=\"T_04ca824a_af59_11ea_8402_8056f2546718row4_col0\" class=\"data row4 col0\" >0.205008</td>\n",
       "                        <td id=\"T_04ca824a_af59_11ea_8402_8056f2546718row4_col1\" class=\"data row4 col1\" >0.174095</td>\n",
       "                        <td id=\"T_04ca824a_af59_11ea_8402_8056f2546718row4_col2\" class=\"data row4 col2\" >0.191678</td>\n",
       "                        <td id=\"T_04ca824a_af59_11ea_8402_8056f2546718row4_col3\" class=\"data row4 col3\" >0.189175</td>\n",
       "                        <td id=\"T_04ca824a_af59_11ea_8402_8056f2546718row4_col4\" class=\"data row4 col4\" >1.000000</td>\n",
       "                        <td id=\"T_04ca824a_af59_11ea_8402_8056f2546718row4_col5\" class=\"data row4 col5\" >0.189175</td>\n",
       "            </tr>\n",
       "            <tr>\n",
       "                        <th id=\"T_04ca824a_af59_11ea_8402_8056f2546718level0_row5\" class=\"row_heading level0 row5\" >Adj Close</th>\n",
       "                        <td id=\"T_04ca824a_af59_11ea_8402_8056f2546718row5_col0\" class=\"data row5 col0\" >0.999149</td>\n",
       "                        <td id=\"T_04ca824a_af59_11ea_8402_8056f2546718row5_col1\" class=\"data row5 col1\" >0.998904</td>\n",
       "                        <td id=\"T_04ca824a_af59_11ea_8402_8056f2546718row5_col2\" class=\"data row5 col2\" >0.998221</td>\n",
       "                        <td id=\"T_04ca824a_af59_11ea_8402_8056f2546718row5_col3\" class=\"data row5 col3\" >1.000000</td>\n",
       "                        <td id=\"T_04ca824a_af59_11ea_8402_8056f2546718row5_col4\" class=\"data row5 col4\" >0.189175</td>\n",
       "                        <td id=\"T_04ca824a_af59_11ea_8402_8056f2546718row5_col5\" class=\"data row5 col5\" >1.000000</td>\n",
       "            </tr>\n",
       "    </tbody></table>"
      ],
      "text/plain": [
       "<pandas.io.formats.style.Styler at 0x13aad38ef0>"
      ]
     },
     "execution_count": 4,
     "metadata": {},
     "output_type": "execute_result"
    }
   ],
   "source": [
    "rs = np.random.RandomState(0)\n",
    "df = pd.DataFrame(rs.rand(10, 10))\n",
    "corr = data.corr()\n",
    "corr.style.background_gradient(cmap='coolwarm')"
   ]
  },
  {
   "cell_type": "code",
   "execution_count": 5,
   "metadata": {},
   "outputs": [
    {
     "data": {
      "image/png": "[encoded data removed]",
      "text/plain": [
       "<Figure size 1152x576 with 1 Axes>"
      ]
     },
     "metadata": {
      "needs_background": "light"
     },
     "output_type": "display_data"
    }
   ],
   "source": [
    "plt.figure(figsize=(16,8))\n",
    "data['Close'].plot()\n",
    "plt.show()"
   ]
  },
  {
   "cell_type": "code",
   "execution_count": 6,
   "metadata": {},
   "outputs": [],
   "source": [
    "n=35\n",
    "X = pd.DataFrame(index=data[['Adj Close']][0:n].index.copy())\n",
    "for i in range(data.shape[0]-n):\n",
    "    X[f'{i}'] = np.array(data['Adj Close'][i:n+i].values)\n",
    "X = X.transpose()\n",
    "X.index=data.tail(X.shape[0]).index\n",
    "X = pd.concat([X,data[['Adj Close']].tail(X.shape[0])],axis = 1, sort = False)\n",
    "X.drop(['Adj Close'],axis=1,inplace=True)"
   ]
  },
  {
   "cell_type": "code",
   "execution_count": 7,
   "metadata": {},
   "outputs": [],
   "source": [
    "y = data[['Adj Close']].tail(X.shape[0]+1)\n",
    "y['Close'] = y['Adj Close']"
   ]
  },
  {
   "cell_type": "code",
   "execution_count": 8,
   "metadata": {},
   "outputs": [],
   "source": [
    "for i in range(1,y.shape[0]):\n",
    "    if(y['Adj Close'][i]>y['Adj Close'][i-1]):\n",
    "        y['Close'][i] = 1\n",
    "    else : \n",
    "        y['Close'][i] = 0\n",
    "y.drop(['Adj Close'],axis=1,inplace=True)\n",
    "y = y.tail(y.shape[0]-1)"
   ]
  },
  {
   "cell_type": "markdown",
   "metadata": {
    "colab_type": "text",
    "id": "WemVnqgeA70k"
   },
   "source": [
    "## Splitting the dataset into the Training set and Test set"
   ]
  },
  {
   "cell_type": "code",
   "execution_count": 9,
   "metadata": {
    "colab": {},
    "colab_type": "code",
    "id": "Kb_v_ae-A-20"
   },
   "outputs": [],
   "source": [
    "from sklearn.model_selection import train_test_split\n",
    "X_train, X_test, y_train, y_test = train_test_split(X, y, test_size = 0.2, random_state = 1)"
   ]
  },
  {
   "cell_type": "markdown",
   "metadata": {},
   "source": [
    "## Feature Scaling"
   ]
  },
  {
   "cell_type": "code",
   "execution_count": 10,
   "metadata": {},
   "outputs": [],
   "source": [
    "from sklearn.preprocessing import StandardScaler\n",
    "sc = StandardScaler()\n",
    "X_train = sc.fit_transform(X_train)\n",
    "X_test = sc.transform(X_test)"
   ]
  },
  {
   "cell_type": "markdown",
   "metadata": {
    "colab_type": "text",
    "id": "k-McZVsQBINc"
   },
   "source": [
    "## Training the model on the Training set"
   ]
  },
  {
   "cell_type": "code",
   "execution_count": 11,
   "metadata": {},
   "outputs": [
    {
     "name": "stderr",
     "output_type": "stream",
     "text": [
      "C:\\Program Files\\Anaconda3\\lib\\site-packages\\ipykernel_launcher.py:3: DataConversionWarning: A column-vector y was passed when a 1d array was expected. Please change the shape of y to (n_samples,), for example using ravel().\n",
      "  This is separate from the ipykernel package so we can avoid doing imports until\n"
     ]
    },
    {
     "data": {
      "text/plain": [
       "RandomForestClassifier(bootstrap=True, ccp_alpha=0.0, class_weight=None,\n",
       "                       criterion='entropy', max_depth=None, max_features='auto',\n",
       "                       max_leaf_nodes=None, max_samples=None,\n",
       "                       min_impurity_decrease=0.0, min_impurity_split=None,\n",
       "                       min_samples_leaf=1, min_samples_split=2,\n",
       "                       min_weight_fraction_leaf=0.0, n_estimators=10,\n",
       "                       n_jobs=None, oob_score=False, random_state=0, verbose=0,\n",
       "                       warm_start=False)"
      ]
     },
     "execution_count": 11,
     "metadata": {},
     "output_type": "execute_result"
    }
   ],
   "source": [
    "from sklearn.ensemble import RandomForestClassifier\n",
    "classifier = RandomForestClassifier(n_estimators = 10, criterion = 'entropy', random_state = 0)\n",
    "classifier.fit(X_train, y_train)"
   ]
  },
  {
   "cell_type": "code",
   "execution_count": 12,
   "metadata": {},
   "outputs": [
    {
     "name": "stdout",
     "output_type": "stream",
     "text": [
      "[[68 49]\n",
      " [66 51]]\n"
     ]
    },
    {
     "data": {
      "text/plain": [
       "0.5085470085470085"
      ]
     },
     "execution_count": 12,
     "metadata": {},
     "output_type": "execute_result"
    }
   ],
   "source": [
    "y_pred=classifier.predict(X_test)\n",
    "cm = confusion_matrix(y_test, y_pred)\n",
    "print(cm)\n",
    "accuracy_score(y_test, y_pred)"
   ]
  },
  {
   "cell_type": "markdown",
   "metadata": {
    "colab_type": "text",
    "id": "xNkXL1YQBiBT"
   },
   "source": [
    "## Predicting the Test set results"
   ]
  },
  {
   "cell_type": "code",
   "execution_count": 13,
   "metadata": {
    "colab": {
     "base_uri": "https://localhost:8080/",
     "height": 185
    },
    "colab_type": "code",
    "executionInfo": {
     "elapsed": 951,
     "status": "ok",
     "timestamp": 1586353666678,
     "user": {
      "displayName": "Hadelin de Ponteves",
      "photoUrl": "https://lh3.googleusercontent.com/a-/AOh14GhEuXdT7eQweUmRPW8_laJuPggSK6hfvpl5a6WBaA=s64",
      "userId": "15047218817161520419"
     },
     "user_tz": -240
    },
    "id": "TQKmwvtdBkyb",
    "outputId": "493436bf-a4ae-4374-ca16-0b0c25d19457"
   },
   "outputs": [
    {
     "name": "stdout",
     "output_type": "stream",
     "text": [
      "[[0. 1.]\n",
      " [1. 0.]\n",
      " [0. 0.]\n",
      " [0. 1.]\n",
      " [0. 0.]\n",
      " [0. 0.]\n",
      " [0. 1.]\n",
      " [0. 1.]\n",
      " [1. 1.]\n",
      " [0. 1.]\n",
      " [0. 0.]\n",
      " [0. 1.]\n",
      " [0. 1.]\n",
      " [0. 1.]\n",
      " [0. 0.]\n",
      " [1. 0.]\n",
      " [1. 1.]\n",
      " [0. 0.]\n",
      " [0. 1.]\n",
      " [1. 1.]\n",
      " [0. 0.]\n",
      " [1. 0.]\n",
      " [1. 1.]\n",
      " [0. 1.]\n",
      " [1. 1.]\n",
      " [0. 1.]\n",
      " [0. 1.]\n",
      " [0. 0.]\n",
      " [1. 1.]\n",
      " [1. 1.]\n",
      " [0. 0.]\n",
      " [0. 0.]\n",
      " [0. 0.]\n",
      " [1. 1.]\n",
      " [0. 1.]\n",
      " [1. 0.]\n",
      " [1. 0.]\n",
      " [0. 0.]\n",
      " [1. 0.]\n",
      " [1. 0.]\n",
      " [0. 0.]\n",
      " [0. 1.]\n",
      " [0. 0.]\n",
      " [0. 1.]\n",
      " [0. 0.]\n",
      " [0. 0.]\n",
      " [1. 1.]\n",
      " [0. 1.]\n",
      " [0. 0.]\n",
      " [0. 1.]\n",
      " [1. 1.]\n",
      " [0. 1.]\n",
      " [1. 1.]\n",
      " [0. 0.]\n",
      " [1. 0.]\n",
      " [0. 0.]\n",
      " [1. 0.]\n",
      " [1. 0.]\n",
      " [0. 1.]\n",
      " [0. 0.]\n",
      " [0. 1.]\n",
      " [1. 1.]\n",
      " [1. 1.]\n",
      " [1. 0.]\n",
      " [0. 0.]\n",
      " [1. 1.]\n",
      " [0. 0.]\n",
      " [0. 0.]\n",
      " [0. 1.]\n",
      " [1. 0.]\n",
      " [0. 0.]\n",
      " [0. 0.]\n",
      " [0. 0.]\n",
      " [1. 0.]\n",
      " [0. 0.]\n",
      " [0. 1.]\n",
      " [0. 0.]\n",
      " [0. 0.]\n",
      " [1. 0.]\n",
      " [1. 0.]\n",
      " [1. 1.]\n",
      " [0. 1.]\n",
      " [0. 1.]\n",
      " [1. 1.]\n",
      " [0. 0.]\n",
      " [0. 0.]\n",
      " [0. 1.]\n",
      " [0. 0.]\n",
      " [0. 0.]\n",
      " [0. 1.]\n",
      " [0. 0.]\n",
      " [0. 0.]\n",
      " [0. 0.]\n",
      " [0. 0.]\n",
      " [1. 0.]\n",
      " [0. 1.]\n",
      " [0. 1.]\n",
      " [1. 1.]\n",
      " [0. 1.]\n",
      " [1. 0.]\n",
      " [1. 1.]\n",
      " [0. 1.]\n",
      " [0. 1.]\n",
      " [0. 1.]\n",
      " [1. 0.]\n",
      " [1. 1.]\n",
      " [0. 0.]\n",
      " [1. 1.]\n",
      " [1. 1.]\n",
      " [0. 1.]\n",
      " [0. 1.]\n",
      " [1. 0.]\n",
      " [0. 1.]\n",
      " [1. 1.]\n",
      " [1. 1.]\n",
      " [1. 1.]\n",
      " [0. 1.]\n",
      " [1. 0.]\n",
      " [0. 1.]\n",
      " [0. 0.]\n",
      " [0. 1.]\n",
      " [1. 0.]\n",
      " [0. 0.]\n",
      " [0. 0.]\n",
      " [0. 0.]\n",
      " [0. 0.]\n",
      " [1. 1.]\n",
      " [1. 0.]\n",
      " [1. 1.]\n",
      " [1. 1.]\n",
      " [1. 0.]\n",
      " [0. 1.]\n",
      " [0. 0.]\n",
      " [0. 1.]\n",
      " [1. 1.]\n",
      " [0. 1.]\n",
      " [1. 1.]\n",
      " [1. 0.]\n",
      " [1. 1.]\n",
      " [0. 0.]\n",
      " [1. 0.]\n",
      " [0. 1.]\n",
      " [1. 0.]\n",
      " [0. 0.]\n",
      " [1. 0.]\n",
      " [0. 0.]\n",
      " [1. 0.]\n",
      " [0. 1.]\n",
      " [1. 0.]\n",
      " [1. 1.]\n",
      " [0. 1.]\n",
      " [0. 0.]\n",
      " [0. 1.]\n",
      " [1. 1.]\n",
      " [0. 0.]\n",
      " [0. 1.]\n",
      " [0. 1.]\n",
      " [1. 1.]\n",
      " [0. 1.]\n",
      " [1. 1.]\n",
      " [0. 0.]\n",
      " [0. 1.]\n",
      " [1. 0.]\n",
      " [1. 1.]\n",
      " [1. 1.]\n",
      " [1. 0.]\n",
      " [0. 1.]\n",
      " [0. 1.]\n",
      " [0. 0.]\n",
      " [1. 1.]\n",
      " [0. 0.]\n",
      " [0. 1.]\n",
      " [1. 1.]\n",
      " [0. 1.]\n",
      " [0. 1.]\n",
      " [1. 0.]\n",
      " [0. 0.]\n",
      " [0. 1.]\n",
      " [1. 1.]\n",
      " [0. 1.]\n",
      " [0. 0.]\n",
      " [1. 1.]\n",
      " [1. 0.]\n",
      " [0. 0.]\n",
      " [1. 1.]\n",
      " [0. 0.]\n",
      " [1. 0.]\n",
      " [1. 1.]\n",
      " [0. 1.]\n",
      " [0. 0.]\n",
      " [1. 1.]\n",
      " [0. 1.]\n",
      " [1. 0.]\n",
      " [1. 1.]\n",
      " [0. 1.]\n",
      " [0. 1.]\n",
      " [1. 0.]\n",
      " [1. 0.]\n",
      " [1. 1.]\n",
      " [0. 0.]\n",
      " [0. 0.]\n",
      " [1. 0.]\n",
      " [0. 1.]\n",
      " [1. 1.]\n",
      " [1. 0.]\n",
      " [1. 1.]\n",
      " [1. 0.]\n",
      " [1. 0.]\n",
      " [0. 0.]\n",
      " [0. 1.]\n",
      " [1. 0.]\n",
      " [0. 0.]\n",
      " [0. 0.]\n",
      " [1. 1.]\n",
      " [0. 0.]\n",
      " [0. 1.]\n",
      " [1. 0.]\n",
      " [1. 0.]\n",
      " [0. 0.]\n",
      " [0. 0.]\n",
      " [1. 1.]\n",
      " [1. 1.]\n",
      " [1. 0.]\n",
      " [0. 0.]\n",
      " [0. 0.]\n",
      " [1. 1.]\n",
      " [0. 1.]\n",
      " [1. 0.]\n",
      " [0. 1.]\n",
      " [1. 0.]\n",
      " [1. 0.]\n",
      " [1. 0.]\n",
      " [0. 0.]\n",
      " [0. 1.]]\n"
     ]
    }
   ],
   "source": [
    "print(np.concatenate((y_pred.reshape(len(y_pred),1), y_test.values.reshape(len(y_test),1)),1))"
   ]
  },
  {
   "cell_type": "markdown",
   "metadata": {},
   "source": [
    "## Making the Confusion Matrix"
   ]
  },
  {
   "cell_type": "code",
   "execution_count": 14,
   "metadata": {},
   "outputs": [
    {
     "name": "stdout",
     "output_type": "stream",
     "text": [
      "[[68 49]\n",
      " [66 51]]\n"
     ]
    },
    {
     "data": {
      "text/plain": [
       "0.5085470085470085"
      ]
     },
     "execution_count": 14,
     "metadata": {},
     "output_type": "execute_result"
    }
   ],
   "source": [
    "cm = confusion_matrix(y_test, y_pred)\n",
    "print(cm)\n",
    "accuracy_score(y_test, y_pred)"
   ]
  },
  {
   "cell_type": "code",
   "execution_count": null,
   "metadata": {},
   "outputs": [],
   "source": []
  }
 ],
 "metadata": {
  "colab": {
   "authorship_tag": "ABX9TyPhYhte6t7H4wEK4xPpDWT7",
   "name": "Multiple Linear Regression",
   "provenance": [],
   "toc_visible": true
  },
  "kernelspec": {
   "display_name": "Python 3",
   "language": "python",
   "name": "python3"
  },
  "language_info": {
   "codemirror_mode": {
    "name": "ipython",
    "version": 3
   },
   "file_extension": ".py",
   "mimetype": "text/x-python",
   "name": "python",
   "nbconvert_exporter": "python",
   "pygments_lexer": "ipython3",
   "version": "3.6.10"
  }
 },
 "nbformat": 4,
 "nbformat_minor": 1
}
